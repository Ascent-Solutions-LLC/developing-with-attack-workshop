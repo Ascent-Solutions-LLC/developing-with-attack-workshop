{
 "cells": [
  {
   "cell_type": "code",
   "execution_count": 1,
   "metadata": {},
   "outputs": [],
   "source": [
    "import csv\n",
    "import json\n",
    "\n",
    "\n",
    "csv_file = \"CS_ATT&CK_Data_Sources.csv\"\n",
    "output_file = \"crowd-strike-attack-data-sources.json\"\n",
    "\n",
    "data = []\n",
    "      \n",
    "with open(csv_file, encoding='utf-8') as f: \n",
    "    csv_reader = csv.DictReader(f) \n",
    "\n",
    "    for row in csv_reader: \n",
    "        data.append(row)\n",
    "\n",
    "with open(output_file, 'w', encoding='utf-8') as f: \n",
    "    dumped = json.dumps(data, indent=4)\n",
    "    f.write(dumped)"
   ]
  },
  {
   "cell_type": "code",
   "execution_count": 2,
   "metadata": {},
   "outputs": [],
   "source": [
    "with open(\"crowd-strike-attack-data-sources.json\", \"r\") as f:\n",
    "    patterns = json.load(f)\n"
   ]
  },
  {
   "cell_type": "code",
   "execution_count": 3,
   "metadata": {},
   "outputs": [],
   "source": [
    "with open(\"../data/stix_data/enterprise-attack.json\", \"r\") as f:\n",
    "    attack = json.load(f)"
   ]
  },
  {
   "cell_type": "code",
   "execution_count": 4,
   "metadata": {},
   "outputs": [],
   "source": [
    "techniques = {}\n",
    "for object in attack[\"objects\"]:\n",
    "    id = object.get(\"id\")\n",
    "    if not id:\n",
    "        continue\n",
    "    if \"attack-pattern\" not in id:\n",
    "        continue\n",
    "    techniques[object.get(\"name\").lower()] = object"
   ]
  },
  {
   "cell_type": "code",
   "execution_count": 6,
   "metadata": {},
   "outputs": [
    {
     "name": "stdout",
     "output_type": "stream",
     "text": [
      "595\n"
     ]
    }
   ],
   "source": [
    "print(len(techniques))"
   ]
  },
  {
   "cell_type": "code",
   "execution_count": 9,
   "metadata": {},
   "outputs": [
    {
     "ename": "KeyError",
     "evalue": "'Spearphishing Attachment'",
     "output_type": "error",
     "traceback": [
      "\u001b[0;31m---------------------------------------------------------------------------\u001b[0m",
      "\u001b[0;31mKeyError\u001b[0m                                  Traceback (most recent call last)",
      "Cell \u001b[0;32mIn[9], line 6\u001b[0m\n\u001b[1;32m      4\u001b[0m     \u001b[39mcontinue\u001b[39;00m\n\u001b[1;32m      5\u001b[0m \u001b[39mif\u001b[39;00m technique_name\u001b[39m.\u001b[39mlower() \u001b[39min\u001b[39;00m techniques:\n\u001b[0;32m----> 6\u001b[0m     pattern[\u001b[39m\"\u001b[39m\u001b[39mstix\u001b[39m\u001b[39m\"\u001b[39m] \u001b[39m=\u001b[39m techniques[technique_name]\n\u001b[1;32m      7\u001b[0m \u001b[39melse\u001b[39;00m:\n\u001b[1;32m      8\u001b[0m     \u001b[39mprint\u001b[39m(\u001b[39mf\u001b[39m\u001b[39m\"\u001b[39m\u001b[39mCouldn\u001b[39m\u001b[39m'\u001b[39m\u001b[39mt match: \u001b[39m\u001b[39m{\u001b[39;00mtechnique_name\u001b[39m}\u001b[39;00m\u001b[39m\"\u001b[39m)\n",
      "\u001b[0;31mKeyError\u001b[0m: 'Spearphishing Attachment'"
     ]
    }
   ],
   "source": [
    "for pattern in patterns:\n",
    "    technique_name = pattern.get(\"technique\")\n",
    "    if not technique_name:\n",
    "        continue\n",
    "    if technique_name.lower() in techniques:\n",
    "        pattern[\"stix\"] = techniques[technique_name.lower()]\n",
    "    else:\n",
    "        print(f\"Couldn't match: {technique_name}\")"
   ]
  },
  {
   "cell_type": "code",
   "execution_count": null,
   "metadata": {},
   "outputs": [],
   "source": []
  }
 ],
 "metadata": {
  "kernelspec": {
   "display_name": "env",
   "language": "python",
   "name": "python3"
  },
  "language_info": {
   "codemirror_mode": {
    "name": "ipython",
    "version": 3
   },
   "file_extension": ".py",
   "mimetype": "text/x-python",
   "name": "python",
   "nbconvert_exporter": "python",
   "pygments_lexer": "ipython3",
   "version": "3.9.16"
  },
  "orig_nbformat": 4
 },
 "nbformat": 4,
 "nbformat_minor": 2
}
