{
 "cells": [
  {
   "cell_type": "code",
   "execution_count": null,
   "metadata": {},
   "outputs": [],
   "source": [
    "import csv\n",
    "import json\n",
    "\n",
    "\n",
    "csv_file = \"CS_ATT&CK_Data_Sources.csv\"\n",
    "output_file = \"crowd-strike-attack-data-sources.json\"\n",
    "\n",
    "data = []\n",
    "      \n",
    "with open(csv_file, encoding='utf-8') as f: \n",
    "    csv_reader = csv.DictReader(f) \n",
    "\n",
    "    for row in csv_reader: \n",
    "        data.append(row)\n",
    "\n",
    "with open(output_file, 'w', encoding='utf-8') as f: \n",
    "    dumped = json.dumps(data, indent=4)\n",
    "    f.write(dumped)"
   ]
  }
 ],
 "metadata": {
  "language_info": {
   "name": "python"
  },
  "orig_nbformat": 4
 },
 "nbformat": 4,
 "nbformat_minor": 2
}
