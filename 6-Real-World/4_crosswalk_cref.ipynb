{
 "cells": [
  {
   "cell_type": "code",
   "execution_count": null,
   "metadata": {},
   "outputs": [],
   "source": [
    "import json\n",
    "\n",
    "import requests\n",
    "\n",
    "\n",
    "response = requests.get(\"https://crefnavigator.mitre.org/api/mitigations/enterprise\", verify=False)\n",
    "\n",
    "response.raise_for_status()\n",
    "\n",
    "candidate_mitigations = response.json()\n",
    "\n",
    "print(json.dumps(candidate_mitigations[0], indent=2))\n",
    "\n",
    "with open(\"candidate-mitigations.json\", \"w\") as f:\n",
    "    json.dump(candidate_mitigations, f, indent=4)\n"
   ]
  },
  {
   "cell_type": "code",
   "execution_count": null,
   "metadata": {},
   "outputs": [],
   "source": [
    "for candidate_mitigation in candidate_mitigations:\n",
    "    detail_response = requests.get(f'https://crefnavigator.mitre.org/api/mitigations/{candidate_mitigation.get(\"id\")}', verify=False)\n",
    "    detail_response.raise_for_status()\n",
    "    candidate_mitigation[\"associatedTechniques\"] = detail_response.json()[\"associatedTechniques\"]\n",
    "\n",
    "with open(\"candidate-mitigation-details.json\", \"w\") as f:\n",
    "    json.dump(candidate_mitigations, f, indent=4)\n",
    "\n"
   ]
  },
  {
   "cell_type": "markdown",
   "metadata": {},
   "source": []
  },
  {
   "cell_type": "code",
   "execution_count": null,
   "metadata": {},
   "outputs": [],
   "source": [
    "# invert\n",
    "\n",
    "techniques = {}\n",
    "\n",
    "for candidate_mitigation in candidate_mitigations:\n",
    "    for associated_technique in candidate_mitigation.get(\"associatedTechniques\", []):\n",
    "        technique_id = associated_technique.get(\"technique_id\")\n",
    "        if technique_id not in techniques:\n",
    "            techniques[technique_id] = {\n",
    "                \"candidate_mitigations\": [],\n",
    "                \"control_list\": []\n",
    "            }\n",
    "        techniques[technique_id][\"candidate_mitigations\"].append(candidate_mitigation[\"id\"])\n",
    "        techniques[technique_id][\"control_list\"].extend(associated_technique.get(\"controlList\", []))\n",
    "\n",
    "with open(\"technique_list.json\", \"w\") as f:\n",
    "    json.dump(techniques, f, indent=2)\n",
    "\n"
   ]
  }
 ],
 "metadata": {
  "kernelspec": {
   "display_name": "env",
   "language": "python",
   "name": "python3"
  },
  "language_info": {
   "codemirror_mode": {
    "name": "ipython",
    "version": 3
   },
   "file_extension": ".py",
   "mimetype": "text/x-python",
   "name": "python",
   "nbconvert_exporter": "python",
   "pygments_lexer": "ipython3",
   "version": "3.9.7"
  },
  "orig_nbformat": 4
 },
 "nbformat": 4,
 "nbformat_minor": 2
}
