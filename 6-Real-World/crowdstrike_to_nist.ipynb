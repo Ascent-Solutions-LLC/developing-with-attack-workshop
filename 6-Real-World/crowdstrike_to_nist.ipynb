{
 "cells": [
  {
   "cell_type": "code",
   "execution_count": 1,
   "metadata": {},
   "outputs": [],
   "source": [
    "import json\n",
    "\n",
    "\n",
    "with open(\"crowdstrike-scores.json\", \"r\") as f:\n",
    "    crowdstrike_scores = json.load(f)\n",
    "\n"
   ]
  },
  {
   "cell_type": "code",
   "execution_count": 2,
   "metadata": {},
   "outputs": [],
   "source": [
    "with open(\"technique_list.json\", \"r\")as f:\n",
    "    technique_list = json.load(f)"
   ]
  },
  {
   "cell_type": "code",
   "execution_count": 5,
   "metadata": {},
   "outputs": [
    {
     "name": "stdout",
     "output_type": "stream",
     "text": [
      "{'score': 3, 'controls': ['SC-35', 'SC-26', 'IR-4(13)', 'SI-4(2)', 'SI-4(4)', 'AC-2(12)']}\n"
     ]
    }
   ],
   "source": [
    "full_list_of_controls = []\n",
    "\n",
    "cs_to_nist_map = {}\n",
    "\n",
    "for cs in crowdstrike_scores:\n",
    "    parent_technique = cs.split(\".\")[0]\n",
    "    if cs in technique_list:\n",
    "        cs_to_nist_map[parent_technique] = {\n",
    "            \"score\": crowdstrike_scores[cs],\n",
    "            \"controls\": technique_list[parent_technique][\"control_list\"]\n",
    "        }\n",
    "\n",
    "for c in cs_to_nist_map:\n",
    "    print(cs_to_nist_map[c])\n",
    "    break"
   ]
  }
 ],
 "metadata": {
  "kernelspec": {
   "display_name": "ti-mitre-map",
   "language": "python",
   "name": "python3"
  },
  "language_info": {
   "codemirror_mode": {
    "name": "ipython",
    "version": 3
   },
   "file_extension": ".py",
   "mimetype": "text/x-python",
   "name": "python",
   "nbconvert_exporter": "python",
   "pygments_lexer": "ipython3",
   "version": "3.9.16"
  },
  "orig_nbformat": 4
 },
 "nbformat": 4,
 "nbformat_minor": 2
}
