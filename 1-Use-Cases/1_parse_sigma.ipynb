{
 "cells": [
  {
   "cell_type": "markdown",
   "metadata": {},
   "source": [
    "Sigma rules are written in YAML"
   ]
  },
  {
   "cell_type": "code",
   "execution_count": 3,
   "metadata": {},
   "outputs": [],
   "source": [
    "import yaml"
   ]
  },
  {
   "cell_type": "markdown",
   "metadata": {},
   "source": [
    "Read in the Sigma Rule"
   ]
  },
  {
   "cell_type": "code",
   "execution_count": 5,
   "metadata": {},
   "outputs": [
    {
     "name": "stdout",
     "output_type": "stream",
     "text": [
      "{'title': 'DNS Query To Remote Access Software Domain', 'id': '4d07b1f4-cb00-4470-b9f8-b0191d48ff52', 'related': [{'id': '71ba22cb-8a01-42e2-a6dd-5bf9b547498f', 'type': 'obsoletes'}, {'id': '7c4cf8e0-1362-48b2-a512-b606d2065d7d', 'type': 'obsoletes'}, {'id': 'ed785237-70fa-46f3-83b6-d264d1dc6eb4', 'type': 'obsoletes'}], 'status': 'experimental', 'description': 'An adversary may use legitimate desktop support and remote access software, such as Team Viewer, Go2Assist, LogMein, AmmyyAdmin, etc, to establish an interactive command and control channel to target systems within networks.\\nThese services are commonly used as legitimate technical support software, and may be allowed by application control within a target environment.\\nRemote access tools like VNC, Ammyy, and Teamviewer are used frequently when compared with other legitimate software commonly used by adversaries. (Citation: Symantec Living off the Land)\\n', 'references': ['https://github.com/redcanaryco/atomic-red-team/blob/f339e7da7d05f6057fdfcdd3742bfcf365fee2a9/atomics/T1219/T1219.md#atomic-test-4---gotoassist-files-detected-test-on-windows', 'https://github.com/redcanaryco/atomic-red-team/blob/f339e7da7d05f6057fdfcdd3742bfcf365fee2a9/atomics/T1219/T1219.md#atomic-test-3---logmein-files-detected-test-on-windows', 'https://github.com/redcanaryco/atomic-red-team/blob/f339e7da7d05f6057fdfcdd3742bfcf365fee2a9/atomics/T1219/T1219.md#atomic-test-6---ammyy-admin-software-execution', 'https://redcanary.com/blog/misbehaving-rats/'], 'author': 'frack113, Connor Martin', 'date': '2022/07/11', 'modified': '2023/06/14', 'tags': ['attack.command_and_control', 'attack.t1219'], 'logsource': {'product': 'windows', 'category': 'dns_query'}, 'detection': {'selection_name': {'QueryName|endswith': ['.getgo.com', '.logmein.com', '.ammyy.com', '.netsupportsoftware.com', 'remoteutilities.com', '.net.anydesk.com', 'api.playanext.com', '.relay.splashtop.com', '.api.splashtop.com', 'app.atera.com', '.agentreporting.atera.com', '.pubsub.atera.com', 'logmeincdn.http.internapcdn.net', 'logmein-gateway.com', 'client.teamviewer.com', 'integratedchat.teamviewer.com', 'static.remotepc.com', '.n-able.com', 'comserver.corporate.beanywhere.com', '.swi-rc.com', '.swi-tc.com', 'telemetry.servers.qetqo.com', 'relay.screenconnect.com', 'control.connectwise.com', 'express.gotoassist.com', 'authentication.logmeininc.com', '.services.vnc.com', '.tmate.io', 'api.parsec.app', 'parsecusercontent.com', 'remotedesktop-pa.googleapis.com', '.logmein-gateway.com', 'secure.logmeinrescue.com', 'join.zoho.com', 'assist.zoho.com', '.zohoassist.com', 'downloads.zohocdn.com', 'agent.jumpcloud.com', 'kickstart.jumpcloud.com', 'cdn.kaseya.net', 'relay.kaseya.net', 'license.bomgar.com', '.beyondtrustcloud.com']}, 'selection_rustdesk': {'QueryName|endswith': '.rustdesk.com', 'QueryName|startswith': 'rs-'}, 'filter_optional_brave': {'Image|endswith': '\\\\brave.exe'}, 'filter_optional_chrome': {'Image': ['C:\\\\Program Files\\\\Google\\\\Chrome\\\\Application\\\\chrome.exe', 'C:\\\\Program Files (x86)\\\\Google\\\\Chrome\\\\Application\\\\chrome.exe']}, 'filter_optional_firefox': {'Image': ['C:\\\\Program Files\\\\Mozilla Firefox\\\\firefox.exe', 'C:\\\\Program Files (x86)\\\\Mozilla Firefox\\\\firefox.exe']}, 'filter_optional_ie': {'Image': ['C:\\\\Program Files (x86)\\\\Internet Explorer\\\\iexplore.exe', 'C:\\\\Program Files\\\\Internet Explorer\\\\iexplore.exe']}, 'filter_optional_maxthon': {'Image|endswith': '\\\\maxthon.exe'}, 'filter_optional_edge_1': [{'Image|startswith': 'C:\\\\Program Files (x86)\\\\Microsoft\\\\EdgeWebView\\\\Application\\\\'}, {'Image|endswith': '\\\\WindowsApps\\\\MicrosoftEdge.exe'}, {'Image': ['C:\\\\Program Files (x86)\\\\Microsoft\\\\Edge\\\\Application\\\\msedge.exe', 'C:\\\\Program Files\\\\Microsoft\\\\Edge\\\\Application\\\\msedge.exe']}], 'filter_optional_edge_2': {'Image|startswith': ['C:\\\\Program Files (x86)\\\\Microsoft\\\\EdgeCore\\\\', 'C:\\\\Program Files\\\\Microsoft\\\\EdgeCore\\\\'], 'Image|endswith': ['\\\\msedge.exe', '\\\\msedgewebview2.exe']}, 'filter_optional_opera': {'Image|endswith': '\\\\opera.exe'}, 'filter_optional_safari': {'Image|endswith': '\\\\safari.exe'}, 'filter_optional_seamonkey': {'Image|endswith': '\\\\seamonkey.exe'}, 'filter_optional_vivaldi': {'Image|endswith': '\\\\vivaldi.exe'}, 'filter_optional_whale': {'Image|endswith': '\\\\whale.exe'}, 'condition': '1 of selection_* and not 1 of filter_optional_*'}, 'falsepositives': ['Likely with other browser software'], 'level': 'medium'}\n"
     ]
    }
   ],
   "source": [
    "sigma_rule = None\n",
    "with open(\"dns_query_remote_access_software_domains.yml\", \"r\") as f:\n",
    "    sigma_rule = yaml.safe_load(f)\n",
    "\n",
    "print(sigma_rule)"
   ]
  },
  {
   "cell_type": "markdown",
   "metadata": {},
   "source": [
    "We can see that the technique IDs are located inside of the `tags` property"
   ]
  },
  {
   "cell_type": "code",
   "execution_count": 6,
   "metadata": {},
   "outputs": [
    {
     "name": "stdout",
     "output_type": "stream",
     "text": [
      "['attack.command_and_control', 'attack.t1219']\n"
     ]
    }
   ],
   "source": [
    "tags = sigma_rule.get(\"tags\")\n",
    "print(tags)"
   ]
  },
  {
   "cell_type": "markdown",
   "metadata": {},
   "source": [
    "Filter out tactics and find techniques"
   ]
  },
  {
   "cell_type": "code",
   "execution_count": 7,
   "metadata": {},
   "outputs": [
    {
     "name": "stdout",
     "output_type": "stream",
     "text": [
      "['T1219']\n"
     ]
    }
   ],
   "source": [
    "technique_ids = []\n",
    "for tag in tags:\n",
    "    # Try to find the techniques (vs tactics)\n",
    "    if \"attack.t\" in tag:\n",
    "        technique_id = \"\".join(tag.split(\".\")[1:]).upper()\n",
    "        technique_ids.append(technique_id)\n",
    "\n",
    "print(technique_ids)"
   ]
  }
 ],
 "metadata": {
  "kernelspec": {
   "display_name": "Python 3.9.7 ('env': venv)",
   "language": "python",
   "name": "python3"
  },
  "language_info": {
   "codemirror_mode": {
    "name": "ipython",
    "version": 3
   },
   "file_extension": ".py",
   "mimetype": "text/x-python",
   "name": "python",
   "nbconvert_exporter": "python",
   "pygments_lexer": "ipython3",
   "version": "3.9.16"
  },
  "orig_nbformat": 4,
  "vscode": {
   "interpreter": {
    "hash": "bfe1f1f665bdbacd51fb107a1ba6bdef0e5b0efb9026bb37cc2aa2792d27ba6f"
   }
  }
 },
 "nbformat": 4,
 "nbformat_minor": 2
}
