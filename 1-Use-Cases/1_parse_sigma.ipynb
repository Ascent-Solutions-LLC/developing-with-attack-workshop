{
 "cells": [
  {
   "cell_type": "markdown",
   "metadata": {},
   "source": [
    "Sigma rules are written in YAML"
   ]
  },
  {
   "cell_type": "code",
   "execution_count": 11,
   "metadata": {},
   "outputs": [],
   "source": [
    "import yaml"
   ]
  },
  {
   "cell_type": "markdown",
   "metadata": {},
   "source": [
    "Read in the Sigma Rule"
   ]
  },
  {
   "cell_type": "code",
   "execution_count": 12,
   "metadata": {},
   "outputs": [
    {
     "name": "stdout",
     "output_type": "stream",
     "text": [
      "{'title': 'Query To Remote Access Software Domain', 'id': '4d07b1f4-cb00-4470-b9f8-b0191d48ff52', 'related': [{'id': '71ba22cb-8a01-42e2-a6dd-5bf9b547498f', 'type': 'obsoletes'}, {'id': '7c4cf8e0-1362-48b2-a512-b606d2065d7d', 'type': 'obsoletes'}, {'id': 'ed785237-70fa-46f3-83b6-d264d1dc6eb4', 'type': 'obsoletes'}], 'status': 'experimental', 'description': 'An adversary may use legitimate desktop support and remote access software, such as Team Viewer, Go2Assist, LogMein, AmmyyAdmin, etc, to establish an interactive command and control channel to target systems within networks.\\nThese services are commonly used as legitimate technical support software, and may be allowed by application control within a target environment.\\nRemote access tools like VNC, Ammyy, and Teamviewer are used frequently when compared with other legitimate software commonly used by adversaries. (Citation: Symantec Living off the Land)\\n', 'references': ['https://github.com/redcanaryco/atomic-red-team/blob/f339e7da7d05f6057fdfcdd3742bfcf365fee2a9/atomics/T1219/T1219.md#atomic-test-4---gotoassist-files-detected-test-on-windows', 'https://github.com/redcanaryco/atomic-red-team/blob/f339e7da7d05f6057fdfcdd3742bfcf365fee2a9/atomics/T1219/T1219.md#atomic-test-3---logmein-files-detected-test-on-windows', 'https://github.com/redcanaryco/atomic-red-team/blob/f339e7da7d05f6057fdfcdd3742bfcf365fee2a9/atomics/T1219/T1219.md#atomic-test-6---ammyy-admin-software-execution'], 'author': 'frack113', 'date': '2022/07/11', 'logsource': {'product': 'windows', 'category': 'dns_query'}, 'detection': {'selection': {'QueryName|endswith': ['.getgo.com', '.logmein.com', '.ammyy.com']}, 'condition': 'selection'}, 'falsepositives': ['Unknown'], 'level': 'medium', 'tags': ['attack.command_and_control', 'attack.t1219']}\n"
     ]
    }
   ],
   "source": [
    "sigma_rule = None\n",
    "with open(\"dns_query_remote_access_software_domains.yml\", \"r\") as f:\n",
    "    sigma_rule = yaml.safe_load(f)\n",
    "\n",
    "print(sigma_rule)"
   ]
  },
  {
   "cell_type": "markdown",
   "metadata": {},
   "source": [
    "We can see that the technique IDs are located inside of the `tags` property"
   ]
  },
  {
   "cell_type": "code",
   "execution_count": 7,
   "metadata": {},
   "outputs": [
    {
     "name": "stdout",
     "output_type": "stream",
     "text": [
      "['attack.command_and_control', 'attack.t1219']\n"
     ]
    }
   ],
   "source": [
    "tags = sigma_rule.get(\"tags\")\n",
    "print(tags)"
   ]
  },
  {
   "cell_type": "markdown",
   "metadata": {},
   "source": [
    "Filter out tactics and find techniques"
   ]
  },
  {
   "cell_type": "code",
   "execution_count": 13,
   "metadata": {},
   "outputs": [
    {
     "name": "stdout",
     "output_type": "stream",
     "text": [
      "['T1219']\n"
     ]
    }
   ],
   "source": [
    "technique_ids = []\n",
    "for tag in tags:\n",
    "    # Try to find the techniques (vs tactics)\n",
    "    if \"attack.t\" in tag:\n",
    "        technique_id = \"\".join(tag.split(\".\")[1:]).upper()\n",
    "        technique_ids.append(technique_id)\n",
    "\n",
    "print(technique_ids)"
   ]
  }
 ],
 "metadata": {
  "kernelspec": {
   "display_name": "Python 3.9.7 ('env': venv)",
   "language": "python",
   "name": "python3"
  },
  "language_info": {
   "codemirror_mode": {
    "name": "ipython",
    "version": 3
   },
   "file_extension": ".py",
   "mimetype": "text/x-python",
   "name": "python",
   "nbconvert_exporter": "python",
   "pygments_lexer": "ipython3",
   "version": "3.9.7"
  },
  "orig_nbformat": 4,
  "vscode": {
   "interpreter": {
    "hash": "bfe1f1f665bdbacd51fb107a1ba6bdef0e5b0efb9026bb37cc2aa2792d27ba6f"
   }
  }
 },
 "nbformat": 4,
 "nbformat_minor": 2
}
