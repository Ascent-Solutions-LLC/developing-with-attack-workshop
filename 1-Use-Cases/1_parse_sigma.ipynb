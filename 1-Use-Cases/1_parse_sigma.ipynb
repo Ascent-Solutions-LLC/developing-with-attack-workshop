{
 "cells": [
  {
   "cell_type": "markdown",
   "metadata": {},
   "source": [
    "Sigma rules are written in YAML"
   ]
  },
  {
   "cell_type": "code",
   "execution_count": null,
   "metadata": {},
   "outputs": [],
   "source": [
    "import yaml"
   ]
  },
  {
   "cell_type": "markdown",
   "metadata": {},
   "source": [
    "Read in the Sigma Rule"
   ]
  },
  {
   "cell_type": "code",
   "execution_count": null,
   "metadata": {},
   "outputs": [],
   "source": [
    "sigma_rule = None\n",
    "with open(\"dns_query_remote_access_software_domains.yml\", \"r\") as f:\n",
    "    sigma_rule = yaml.safe_load(f)\n",
    "\n",
    "print(sigma_rule)"
   ]
  },
  {
   "cell_type": "markdown",
   "metadata": {},
   "source": [
    "We can see that the technique IDs are located inside of the `tags` property"
   ]
  },
  {
   "cell_type": "code",
   "execution_count": null,
   "metadata": {},
   "outputs": [],
   "source": [
    "tags = sigma_rule.get(\"tags\")\n",
    "print(tags)"
   ]
  },
  {
   "cell_type": "markdown",
   "metadata": {},
   "source": [
    "Filter out tactics and find techniques"
   ]
  },
  {
   "cell_type": "code",
   "execution_count": null,
   "metadata": {},
   "outputs": [],
   "source": [
    "technique_ids = []\n",
    "for tag in tags:\n",
    "    # Try to find the techniques (vs tactics)\n",
    "    if \"attack.t\" in tag:\n",
    "        technique_id = \"\".join(tag.split(\".\")[1:]).upper()\n",
    "        technique_ids.append(technique_id)\n",
    "\n",
    "print(technique_ids)"
   ]
  }
 ],
 "metadata": {
  "kernelspec": {
   "display_name": "Python 3.9.7 ('env': venv)",
   "language": "python",
   "name": "python3"
  },
  "language_info": {
   "codemirror_mode": {
    "name": "ipython",
    "version": 3
   },
   "file_extension": ".py",
   "mimetype": "text/x-python",
   "name": "python",
   "nbconvert_exporter": "python",
   "pygments_lexer": "ipython3",
   "version": "3.9.7"
  },
  "orig_nbformat": 4,
  "vscode": {
   "interpreter": {
    "hash": "bfe1f1f665bdbacd51fb107a1ba6bdef0e5b0efb9026bb37cc2aa2792d27ba6f"
   }
  }
 },
 "nbformat": 4,
 "nbformat_minor": 2
}
