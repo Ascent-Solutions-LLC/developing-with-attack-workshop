{
 "cells": [
  {
   "cell_type": "markdown",
   "metadata": {},
   "source": [
    "We first need to do some setup so we can query the Azure API"
   ]
  },
  {
   "cell_type": "code",
   "execution_count": 2,
   "metadata": {},
   "outputs": [],
   "source": [
    "import os\n",
    "\n",
    "from azure.identity import DefaultAzureCredential\n",
    "from azure.mgmt.securityinsight import SecurityInsights\n",
    "from dotenv import load_dotenv\n",
    "\n",
    "\n",
    "load_dotenv()\n",
    "\n",
    "\n",
    "SUBSCRIPTION_ID = os.environ[\"SUBSCRIPTION_ID\"]\n",
    "RESOURCE_GROUP_NAME = os.environ[\"RESOURCE_GROUP_NAME\"]\n",
    "WORKSPACE_NAME = os.environ[\"WORKSPACE_NAME\"]"
   ]
  },
  {
   "cell_type": "markdown",
   "metadata": {},
   "source": [
    "Use the Default Azure Credential (via something like `az login`). In this case we are excluding VSCode because of a bug w/ cached creds and are instead, using creds loaded as env vars from above"
   ]
  },
  {
   "cell_type": "code",
   "execution_count": 3,
   "metadata": {},
   "outputs": [],
   "source": [
    "credential = DefaultAzureCredential(exclude_visual_studio_code_credential=True)"
   ]
  },
  {
   "cell_type": "markdown",
   "metadata": {},
   "source": [
    "Ccreate a Security Insights Client which is what Microsoft calls the parent interface for Sentinel Rules. Note this is scoped to a subscription."
   ]
  },
  {
   "cell_type": "code",
   "execution_count": 5,
   "metadata": {},
   "outputs": [
    {
     "name": "stdout",
     "output_type": "stream",
     "text": [
      "<azure.mgmt.securityinsight._security_insights.SecurityInsights object at 0x7f01efd08610>\n"
     ]
    }
   ],
   "source": [
    "security_insights_client = SecurityInsights(credential, SUBSCRIPTION_ID)"
   ]
  },
  {
   "cell_type": "markdown",
   "metadata": {},
   "source": [
    "Create an `AlertRulesTemplateClient` to get the alert rules. It's built from the above insights client"
   ]
  },
  {
   "cell_type": "code",
   "execution_count": 6,
   "metadata": {},
   "outputs": [],
   "source": [
    "alert_rules_template_client = security_insights_client.alert_rule_templates"
   ]
  },
  {
   "cell_type": "markdown",
   "metadata": {},
   "source": [
    "Get all of the Rule Templates. Note this is scoped to a tuple of `(resource group, workspace)`"
   ]
  },
  {
   "cell_type": "code",
   "execution_count": 10,
   "metadata": {},
   "outputs": [],
   "source": [
    "rule_templates = alert_rules_template_client.list(RESOURCE_GROUP_NAME, WORKSPACE_NAME)"
   ]
  },
  {
   "cell_type": "markdown",
   "metadata": {},
   "source": [
    "Grab the first template returned for examination"
   ]
  },
  {
   "cell_type": "code",
   "execution_count": 11,
   "metadata": {},
   "outputs": [
    {
     "name": "stdout",
     "output_type": "stream",
     "text": [
      "Name: 3fbc20a4-04c4-464e-8fcb-6667f53e4987\n",
      "Description : Identifies evidence of brute force activity against a Windows 365 Cloud PC by highlighting multiple authentication failures and by a successful authentication within a given time window.\n",
      "Tactics: ['CredentialAccess']\n",
      "Techniques: ['T1110']\n"
     ]
    }
   ],
   "source": [
    "example_rule_template = list(rule_templates)[0]\n",
    "\n",
    "print(f\"Name: {example_rule_template.name}\")\n",
    "print(f\"Description : {example_rule_template.description}\")\n",
    "print(f\"Tactics: {example_rule_template.tactics}\")\n",
    "print(f\"Techniques: {example_rule_template.techniques}\")"
   ]
  },
  {
   "cell_type": "markdown",
   "metadata": {},
   "source": [
    "Azure Sentinel Rules already included mapped ATT&CK data"
   ]
  }
 ],
 "metadata": {
  "kernelspec": {
   "display_name": "Python 3.9.7 ('env': venv)",
   "language": "python",
   "name": "python3"
  },
  "language_info": {
   "codemirror_mode": {
    "name": "ipython",
    "version": 3
   },
   "file_extension": ".py",
   "mimetype": "text/x-python",
   "name": "python",
   "nbconvert_exporter": "python",
   "pygments_lexer": "ipython3",
   "version": "3.9.7"
  },
  "orig_nbformat": 4,
  "vscode": {
   "interpreter": {
    "hash": "bfe1f1f665bdbacd51fb107a1ba6bdef0e5b0efb9026bb37cc2aa2792d27ba6f"
   }
  }
 },
 "nbformat": 4,
 "nbformat_minor": 2
}
