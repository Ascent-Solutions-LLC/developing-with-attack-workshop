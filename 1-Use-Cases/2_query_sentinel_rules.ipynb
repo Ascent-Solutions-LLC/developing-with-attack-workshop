{
 "cells": [
  {
   "cell_type": "markdown",
   "metadata": {},
   "source": [
    "We first need to do some setup so we can query the Azure API"
   ]
  },
  {
   "cell_type": "code",
   "execution_count": 1,
   "metadata": {},
   "outputs": [],
   "source": [
    "import os\n",
    "\n",
    "from azure.identity import DefaultAzureCredential\n",
    "from azure.mgmt.securityinsight import SecurityInsights\n",
    "from dotenv import load_dotenv\n",
    "\n",
    "\n",
    "load_dotenv()\n",
    "\n",
    "\n",
    "SUBSCRIPTION_ID = os.environ[\"SUBSCRIPTION_ID\"]\n",
    "RESOURCE_GROUP_NAME = os.environ[\"RESOURCE_GROUP_NAME\"]\n",
    "WORKSPACE_NAME = os.environ[\"WORKSPACE_NAME\"]\n",
    "API_VERSION = \"2023-07-01-preview\""
   ]
  },
  {
   "cell_type": "markdown",
   "metadata": {},
   "source": [
    "Use the Default Azure Credential (via something like `az login`). In this case we are excluding VSCode because of a bug w/ cached creds and are instead, using creds loaded as env vars from above"
   ]
  },
  {
   "cell_type": "code",
   "execution_count": 2,
   "metadata": {},
   "outputs": [],
   "source": [
    "credential = DefaultAzureCredential(exclude_visual_studio_code_credential=True)"
   ]
  },
  {
   "cell_type": "markdown",
   "metadata": {},
   "source": [
    "Create a Security Insights Client which is what Microsoft calls the parent interface for Sentinel Rules. Note this is scoped to a subscription."
   ]
  },
  {
   "cell_type": "code",
   "execution_count": 3,
   "metadata": {},
   "outputs": [],
   "source": [
    "security_insights_client = SecurityInsights(credential, SUBSCRIPTION_ID, api_version=API_VERSION)"
   ]
  },
  {
   "cell_type": "markdown",
   "metadata": {},
   "source": [
    "Create an `AlertRulesTemplateClient` to get the alert rules. It's built from the above insights client"
   ]
  },
  {
   "cell_type": "code",
   "execution_count": 4,
   "metadata": {},
   "outputs": [],
   "source": [
    "alert_rules_template_client = security_insights_client.alert_rule_templates"
   ]
  },
  {
   "cell_type": "markdown",
   "metadata": {},
   "source": [
    "Get all of the Rule Templates. Note this is scoped to a tuple of `(resource group, workspace)`"
   ]
  },
  {
   "cell_type": "code",
   "execution_count": 5,
   "metadata": {},
   "outputs": [],
   "source": [
    "rule_templates = alert_rules_template_client.list(RESOURCE_GROUP_NAME, WORKSPACE_NAME)\n"
   ]
  },
  {
   "cell_type": "markdown",
   "metadata": {},
   "source": [
    "Pull down the list of ALL the built-in rule templates from Sentinel"
   ]
  },
  {
   "cell_type": "code",
   "execution_count": 6,
   "metadata": {},
   "outputs": [
    {
     "name": "stdout",
     "output_type": "stream",
     "text": [
      "489\n"
     ]
    }
   ],
   "source": [
    "example_rule_templates = list(rule_templates)\n",
    "print(len(example_rule_templates))"
   ]
  },
  {
   "cell_type": "markdown",
   "metadata": {},
   "source": [
    "Grab the first template returned for examination"
   ]
  },
  {
   "cell_type": "code",
   "execution_count": 7,
   "metadata": {},
   "outputs": [
    {
     "name": "stdout",
     "output_type": "stream",
     "text": [
      "Name: 968358d6-6af8-49bb-aaa4-187b3067fb95\n",
      "Description : This query looks for suspicious request patterns to Exchange servers that fit patterns recently\n",
      "blogged about by PeterJson. This exploitation chain utilises an SSRF vulnerability in Exchange\n",
      "which eventually allows the attacker to execute arbitrary Powershell on the server. In the example\n",
      "powershell can be used to write an email to disk with an encoded attachment containing a shell.\n",
      "Reference: https://peterjson.medium.com/reproducing-the-proxyshell-pwn2own-exploit-49743a4ea9a1\n",
      "Tactics: ['InitialAccess']\n",
      "Techniques: ['T1190']\n"
     ]
    }
   ],
   "source": [
    "example_rule_template = list(example_rule_templates)[0]\n",
    "\n",
    "print(f\"Name: {example_rule_template.name}\")\n",
    "print(f\"Description : {example_rule_template.description}\")\n",
    "print(f\"Tactics: {example_rule_template.tactics}\")\n",
    "print(f\"Techniques: {example_rule_template.techniques}\")"
   ]
  },
  {
   "cell_type": "markdown",
   "metadata": {},
   "source": [
    "Azure Sentinel Rules already included mapped ATT&CK data!"
   ]
  }
 ],
 "metadata": {
  "kernelspec": {
   "display_name": "Python 3.9.7 ('env': venv)",
   "language": "python",
   "name": "python3"
  },
  "language_info": {
   "codemirror_mode": {
    "name": "ipython",
    "version": 3
   },
   "file_extension": ".py",
   "mimetype": "text/x-python",
   "name": "python",
   "nbconvert_exporter": "python",
   "pygments_lexer": "ipython3",
   "version": "3.9.18"
  },
  "orig_nbformat": 4,
  "vscode": {
   "interpreter": {
    "hash": "bfe1f1f665bdbacd51fb107a1ba6bdef0e5b0efb9026bb37cc2aa2792d27ba6f"
   }
  }
 },
 "nbformat": 4,
 "nbformat_minor": 2
}
